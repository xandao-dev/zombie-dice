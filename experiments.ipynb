{
 "cells": [
  {
   "cell_type": "code",
   "execution_count": 1,
   "metadata": {},
   "outputs": [],
   "source": [
    "import random\n",
    "import math"
   ]
  },
  {
   "cell_type": "code",
   "execution_count": 3,
   "metadata": {},
   "outputs": [
    {
     "name": "stdout",
     "output_type": "stream",
     "text": [
      "['green', 'green', 'green', 'green', 'green', 'green', 'yellow', 'yellow', 'yellow', 'yellow', 'red', 'red', 'red']\n",
      "('green', 'green', 'green', 'green', 'green', 'green', 'yellow', 'yellow', 'yellow', 'yellow', 'red', 'red', 'red')\n",
      "['green', 'green', 'green', 'green', 'green', 'green', 'yellow', 'yellow', 'yellow', 'yellow', 'red', 'red', 'red']\n",
      "('green', 'green', 'green', 'green', 'green', 'green', 'yellow', 'yellow', 'yellow', 'yellow', 'red', 'red', 'red')\n"
     ]
    }
   ],
   "source": [
    "dices = ['green'] * 6 + ['yellow'] * 4 + ['red'] * 3\n",
    "dices_tuple = tuple(dices)\n",
    "dices2 = (['green'] * 6 + ['yellow'] * 4 + ['red'] * 3)\n",
    "dices_tuple2 = tuple(['green'] * 6 + ['yellow'] * 4 + ['red'] * 3)\n",
    "\n",
    "print(dices)\n",
    "print(dices_tuple)\n",
    "print(dices2)\n",
    "print(dices_tuple2)"
   ]
  },
  {
   "cell_type": "code",
   "execution_count": 5,
   "metadata": {},
   "outputs": [
    {
     "name": "stdout",
     "output_type": "stream",
     "text": [
      "0\n",
      "10\n"
     ]
    }
   ],
   "source": [
    "class Player:\n",
    "    def __init__(self, name: str):\n",
    "        self.name = name\n",
    "        self.score = 0\n",
    "        self.dices = []\n",
    "\n",
    "p = Player('teste')\n",
    "print(p.score)\n",
    "p.score = 10\n",
    "print(p.score)"
   ]
  },
  {
   "cell_type": "code",
   "execution_count": 1,
   "metadata": {},
   "outputs": [
    {
     "name": "stdout",
     "output_type": "stream",
     "text": [
      "[2, 3]\n"
     ]
    }
   ],
   "source": [
    "a = [1, 2, 3]\n",
    "\n",
    "condition = lambda x: x > 1\n",
    "b = [x for x in a if condition(x)]\n",
    "print(b)"
   ]
  },
  {
   "cell_type": "code",
   "execution_count": 6,
   "metadata": {},
   "outputs": [
    {
     "name": "stdout",
     "output_type": "stream",
     "text": [
      "[teste - 10, teste - 0, teste - 10, teste - 0]\n",
      "[teste - 10, teste - 0, teste - 0]\n"
     ]
    }
   ],
   "source": [
    "class Player:\n",
    "    def __init__(self, name: str):\n",
    "        self.name = name\n",
    "        self.score = 0\n",
    "    \n",
    "    def __repr__(self):\n",
    "        return f'{self.name} - {self.score}'\n",
    "\n",
    "pl = [Player('teste'), Player('teste'), Player('teste'), Player('teste')]\n",
    "pl[2].score = 10\n",
    "pl[0].score = 10\n",
    "player = pl[2]\n",
    "print(pl)\n",
    "pl.remove(player)\n",
    "print(pl)"
   ]
  }
 ],
 "metadata": {
  "interpreter": {
   "hash": "31f2aee4e71d21fbe5cf8b01ff0e069b9275f58929596ceb00d14d90e3e16cd6"
  },
  "kernelspec": {
   "display_name": "Python 3.9.7 64-bit",
   "language": "python",
   "name": "python3"
  },
  "language_info": {
   "codemirror_mode": {
    "name": "ipython",
    "version": 3
   },
   "file_extension": ".py",
   "mimetype": "text/x-python",
   "name": "python",
   "nbconvert_exporter": "python",
   "pygments_lexer": "ipython3",
   "version": "3.9.7"
  },
  "orig_nbformat": 4
 },
 "nbformat": 4,
 "nbformat_minor": 2
}
