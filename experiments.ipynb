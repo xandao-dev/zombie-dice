{
 "cells": [
  {
   "cell_type": "code",
   "execution_count": 1,
   "metadata": {},
   "outputs": [],
   "source": [
    "import random\n",
    "import math"
   ]
  },
  {
   "cell_type": "code",
   "execution_count": 3,
   "metadata": {},
   "outputs": [
    {
     "name": "stdout",
     "output_type": "stream",
     "text": [
      "['green', 'green', 'green', 'green', 'green', 'green', 'yellow', 'yellow', 'yellow', 'yellow', 'red', 'red', 'red']\n",
      "('green', 'green', 'green', 'green', 'green', 'green', 'yellow', 'yellow', 'yellow', 'yellow', 'red', 'red', 'red')\n",
      "['green', 'green', 'green', 'green', 'green', 'green', 'yellow', 'yellow', 'yellow', 'yellow', 'red', 'red', 'red']\n",
      "('green', 'green', 'green', 'green', 'green', 'green', 'yellow', 'yellow', 'yellow', 'yellow', 'red', 'red', 'red')\n"
     ]
    }
   ],
   "source": [
    "dices = ['green'] * 6 + ['yellow'] * 4 + ['red'] * 3\n",
    "dices_tuple = tuple(dices)\n",
    "dices2 = (['green'] * 6 + ['yellow'] * 4 + ['red'] * 3)\n",
    "dices_tuple2 = tuple(['green'] * 6 + ['yellow'] * 4 + ['red'] * 3)\n",
    "\n",
    "print(dices)\n",
    "print(dices_tuple)\n",
    "print(dices2)\n",
    "print(dices_tuple2)"
   ]
  },
  {
   "cell_type": "code",
   "execution_count": 5,
   "metadata": {},
   "outputs": [
    {
     "name": "stdout",
     "output_type": "stream",
     "text": [
      "0\n",
      "10\n"
     ]
    }
   ],
   "source": [
    "class Player:\n",
    "    def __init__(self, name: str):\n",
    "        self.name = name\n",
    "        self.score = 0\n",
    "        self.dices = []\n",
    "\n",
    "p = Player('teste')\n",
    "print(p.score)\n",
    "p.score = 10\n",
    "print(p.score)"
   ]
  },
  {
   "cell_type": "code",
   "execution_count": null,
   "metadata": {},
   "outputs": [],
   "source": []
  }
 ],
 "metadata": {
  "interpreter": {
   "hash": "31f2aee4e71d21fbe5cf8b01ff0e069b9275f58929596ceb00d14d90e3e16cd6"
  },
  "kernelspec": {
   "display_name": "Python 3.9.7 64-bit",
   "language": "python",
   "name": "python3"
  },
  "language_info": {
   "codemirror_mode": {
    "name": "ipython",
    "version": 3
   },
   "file_extension": ".py",
   "mimetype": "text/x-python",
   "name": "python",
   "nbconvert_exporter": "python",
   "pygments_lexer": "ipython3",
   "version": "3.9.7"
  },
  "orig_nbformat": 4
 },
 "nbformat": 4,
 "nbformat_minor": 2
}
